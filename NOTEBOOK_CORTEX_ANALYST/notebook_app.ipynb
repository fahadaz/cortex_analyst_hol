{
 "metadata": {
  "kernelspec": {
   "display_name": "Streamlit Notebook",
   "name": "streamlit"
  }
 },
 "nbformat_minor": 5,
 "nbformat": 4,
 "cells": [
  {
   "cell_type": "code",
   "id": "04ee9efa-9c11-45fa-a3f2-0696c770ca06",
   "metadata": {
    "language": "sql",
    "name": "Create_Fact_Table_daily_revenue",
    "collapsed": false,
    "resultHeight": 112
   },
   "outputs": [],
   "source": "USE DATABASE cortex_analyst_demo;\nUSE SCHEMA cortex_analyst_demo.revenue_timeseries;\n\n-- Fact table: daily_revenue\nCREATE OR REPLACE TABLE cortex_analyst_demo.revenue_timeseries.daily_revenue (\n    date DATE,\n    revenue FLOAT,\n    cogs FLOAT,\n    forecasted_revenue FLOAT,\n    product_id INT,\n    region_id INT\n);",
   "execution_count": null
  },
  {
   "cell_type": "code",
   "id": "cff37ae1-11b3-4cff-b793-c8e19c8ff6b3",
   "metadata": {
    "language": "sql",
    "name": "Create_Dimension_Table_product_dim",
    "collapsed": false,
    "resultHeight": 112
   },
   "outputs": [],
   "source": "USE DATABASE cortex_analyst_demo;\nUSE SCHEMA cortex_analyst_demo.revenue_timeseries;\n\n-- Dimension table: product_dim\nCREATE OR REPLACE TABLE cortex_analyst_demo.revenue_timeseries.product_dim (\n    product_id INT,\n    product_line VARCHAR(16777216)\n);",
   "execution_count": null
  },
  {
   "cell_type": "code",
   "id": "093dd6cb-1622-4e7c-b43d-e9aa110a9c91",
   "metadata": {
    "language": "sql",
    "name": "Create_Dimension_Table_region_dim",
    "collapsed": false,
    "resultHeight": 112
   },
   "outputs": [],
   "source": "USE DATABASE cortex_analyst_demo;\nUSE SCHEMA cortex_analyst_demo.revenue_timeseries;\n\n-- Dimension table: region_dim\nCREATE OR REPLACE TABLE cortex_analyst_demo.revenue_timeseries.region_dim (\n    region_id INT,\n    sales_region VARCHAR(16777216),\n    state VARCHAR(16777216)\n);",
   "execution_count": null
  },
  {
   "cell_type": "code",
   "id": "c8156ad5-9f75-48dd-b0de-cdda8f9ad65f",
   "metadata": {
    "language": "python",
    "name": "import_snowpark_pandas_library",
    "collapsed": false,
    "resultHeight": 0
   },
   "outputs": [],
   "source": "import modin.pandas as pd\nimport streamlit as st\n# Import the Snowpark plugin for modin.\nimport snowflake.snowpark.modin.plugin\n# Import Snowpark session\nfrom snowflake.snowpark.context import get_active_session\n",
   "execution_count": null
  },
  {
   "cell_type": "code",
   "id": "8f0c3322-9012-4461-af5f-6c1f1b600599",
   "metadata": {
    "language": "python",
    "name": "get_session_set_schema",
    "collapsed": false,
    "resultHeight": 0
   },
   "outputs": [],
   "source": "# Retrieve the Session\nsession = get_active_session()\n\n# Set context\nsession.use_schema('cortex_analyst_demo.revenue_timeseries')",
   "execution_count": null
  },
  {
   "cell_type": "code",
   "id": "e19d1402-d70a-4a9d-87be-a1f9a20ae334",
   "metadata": {
    "language": "python",
    "name": "Load_data_from_csv_files",
    "collapsed": false,
    "resultHeight": 0
   },
   "outputs": [],
   "source": "df_d_rev = pd.read_csv('@RAW_DATA/daily_revenue.csv')\ndf_prod = pd.read_csv('@RAW_DATA/product.csv')\ndf_reg = pd.read_csv('@RAW_DATA/region.csv')",
   "execution_count": null
  },
  {
   "cell_type": "code",
   "id": "f04c1a34-08da-4300-80ed-62b8a3a3eb76",
   "metadata": {
    "language": "python",
    "name": "explore_data_pd_revenue_sum",
    "resultHeight": 57,
    "collapsed": false
   },
   "outputs": [],
   "source": "df_reg_1 = df_d_rev[df_d_rev['Region_id'] == 1]\n\ndf_reg_1['REVENUE'].sum()\n",
   "execution_count": null
  },
  {
   "cell_type": "code",
   "id": "c9f0e2a0-da6a-4123-920f-4c687b4d6db3",
   "metadata": {
    "language": "python",
    "name": "cell3",
    "resultHeight": 373,
    "collapsed": false
   },
   "outputs": [],
   "source": "st.bar_chart(df_d_rev.groupby('Region_id')['REVENUE'].sum().to_pandas())",
   "execution_count": null
  },
  {
   "cell_type": "code",
   "id": "07abefed-702a-4efa-9289-2ae5d524a704",
   "metadata": {
    "language": "python",
    "name": "cell4",
    "resultHeight": 373,
    "collapsed": false
   },
   "outputs": [],
   "source": "df_total_p_line_rev = df_d_rev.join(df_prod.set_index('Product_id'), \n                                    on='Product_id').groupby('Product_line')['REVENUE'].sum()\nst.bar_chart(df_total_p_line_rev.to_pandas())",
   "execution_count": null
  },
  {
   "cell_type": "code",
   "id": "cc87d976-e0a8-4ba0-a068-c6983523cbd7",
   "metadata": {
    "language": "python",
    "name": "save_data_to_SF_tables",
    "collapsed": false,
    "resultHeight": 0
   },
   "outputs": [],
   "source": "# Save data to region_dim table\ndf_reg.to_snowflake(\n    name = 'cortex_analyst_demo.revenue_timeseries.region_dim',\n    if_exists='replace',\n    index=False\n)\n\n# Save data to product_dim table\ndf_prod.to_snowflake(\n    name = 'cortex_analyst_demo.revenue_timeseries.product_dim',\n    if_exists='replace',\n    index=False\n)\n\ndf_d_rev.to_snowflake(\n    name = 'cortex_analyst_demo.revenue_timeseries.daily_revenue',\n    if_exists='replace',\n    index=False\n)\n",
   "execution_count": null
  },
  {
   "cell_type": "code",
   "id": "3d8e6a98-03f2-4cd8-bb52-9ac240d69b43",
   "metadata": {
    "language": "sql",
    "name": "cell1",
    "collapsed": false,
    "resultHeight": 439
   },
   "outputs": [],
   "source": "select * from cortex_analyst_demo.revenue_timeseries.daily_revenue;",
   "execution_count": null
  }
 ]
}