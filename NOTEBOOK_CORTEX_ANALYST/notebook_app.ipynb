{
 "metadata": {
  "kernelspec": {
   "display_name": "Streamlit Notebook",
   "name": "streamlit"
  }
 },
 "nbformat_minor": 5,
 "nbformat": 4,
 "cells": [
  {
   "cell_type": "code",
   "id": "04ee9efa-9c11-45fa-a3f2-0696c770ca06",
   "metadata": {
    "language": "sql",
    "name": "Create_Fact_Table_daily_revenue",
    "collapsed": false,
    "resultHeight": 0
   },
   "outputs": [],
   "source": "USE DATABASE cortex_analyst_demo;\nUSE SCHEMA cortex_analyst_demo.revenue_timeseries;\n\n-- Fact table: daily_revenue\nCREATE OR REPLACE TABLE cortex_analyst_demo.revenue_timeseries.daily_revenue (\n    date DATE,\n    revenue FLOAT,\n    cogs FLOAT,\n    forecasted_revenue FLOAT,\n    product_id INT,\n    region_id INT\n);",
   "execution_count": null
  },
  {
   "cell_type": "code",
   "id": "cff37ae1-11b3-4cff-b793-c8e19c8ff6b3",
   "metadata": {
    "language": "sql",
    "name": "Create_Dimension_Table_product_dim",
    "collapsed": false,
    "resultHeight": 0
   },
   "outputs": [],
   "source": "USE DATABASE cortex_analyst_demo;\nUSE SCHEMA cortex_analyst_demo.revenue_timeseries;\n\n-- Dimension table: product_dim\nCREATE OR REPLACE TABLE cortex_analyst_demo.revenue_timeseries.product_dim (\n    product_id INT,\n    product_line VARCHAR(16777216)\n);",
   "execution_count": null
  },
  {
   "cell_type": "code",
   "id": "093dd6cb-1622-4e7c-b43d-e9aa110a9c91",
   "metadata": {
    "language": "sql",
    "name": "Create_Dimension_Table_region_dim",
    "collapsed": false,
    "resultHeight": 0
   },
   "outputs": [],
   "source": "USE DATABASE cortex_analyst_demo;\nUSE SCHEMA cortex_analyst_demo.revenue_timeseries;\n\n-- Dimension table: region_dim\nCREATE OR REPLACE TABLE cortex_analyst_demo.revenue_timeseries.region_dim (\n    region_id INT,\n    sales_region VARCHAR(16777216),\n    state VARCHAR(16777216)\n);",
   "execution_count": null
  },
  {
   "cell_type": "code",
   "id": "c8156ad5-9f75-48dd-b0de-cdda8f9ad65f",
   "metadata": {
    "language": "python",
    "name": "import_snowpark_pandas_library",
    "collapsed": false,
    "resultHeight": 0
   },
   "outputs": [],
   "source": "import modin.pandas as pd\nimport streamlit as st\n# Import the Snowpark plugin for modin.\nimport snowflake.snowpark.modin.plugin\n# Import Snowpark session\nfrom snowflake.snowpark.context import get_active_session\n",
   "execution_count": null
  },
  {
   "cell_type": "code",
   "id": "8f0c3322-9012-4461-af5f-6c1f1b600599",
   "metadata": {
    "language": "python",
    "name": "get_session_set_schema",
    "collapsed": false,
    "resultHeight": 0
   },
   "outputs": [],
   "source": "# Retrieve the Session\nsession = get_active_session()\n\n# Set context\nsession.use_schema('cortex_analyst_demo.revenue_timeseries')",
   "execution_count": null
  },
  {
   "cell_type": "code",
   "id": "e19d1402-d70a-4a9d-87be-a1f9a20ae334",
   "metadata": {
    "language": "python",
    "name": "Load_data_from_csv_files",
    "collapsed": false,
    "resultHeight": 0
   },
   "outputs": [],
   "source": "df_d_rev = pd.read_csv('@RAW_DATA/daily_revenue.csv')\ndf_prod = pd.read_csv('@RAW_DATA/product.csv')\ndf_reg = pd.read_csv('@RAW_DATA/region.csv')",
   "execution_count": null
  },
  {
   "cell_type": "code",
   "id": "c9f0e2a0-da6a-4123-920f-4c687b4d6db3",
   "metadata": {
    "language": "python",
    "name": "cell3",
    "resultHeight": 0,
    "collapsed": false
   },
   "outputs": [],
   "source": "st.bar_chart(df_d_rev.groupby('Region_id')['REVENUE'].sum().to_pandas())",
   "execution_count": null
  },
  {
   "cell_type": "code",
   "id": "07abefed-702a-4efa-9289-2ae5d524a704",
   "metadata": {
    "language": "python",
    "name": "cell4",
    "resultHeight": 0,
    "collapsed": false
   },
   "outputs": [],
   "source": "df_total_p_line_rev = df_d_rev.join(df_prod.set_index('Product_id'), \n                                    on='Product_id').groupby('Product_line')['REVENUE'].sum()\nst.bar_chart(df_total_p_line_rev.to_pandas())",
   "execution_count": null
  },
  {
   "cell_type": "code",
   "id": "c5365d0c-61c9-48bc-9a24-5d98fa94d1c4",
   "metadata": {
    "language": "python",
    "name": "cell2",
    "resultHeight": 0,
    "collapsed": false
   },
   "outputs": [],
   "source": "df_d_rev_sub = df_d_rev['DATE', 'REVENUE', 'FORECASTED_REVENUE']\n\ndf_d_rev_sub['DIFF'] =  df_d_rev_sub['REVENUE'] - df_d_rev_sub['FORECASTED_REVENUE']\n\nst.line_chart(df_d_rev_sub.head(30).to_pandas(), x='DATE', y=['DIFF','REVENUE','FORECASTED_REVENUE'], \n              color=[\"#FF0000\", \"#0000FF\", \"#00FF00\"])",
   "execution_count": null
  },
  {
   "cell_type": "code",
   "id": "cc87d976-e0a8-4ba0-a068-c6983523cbd7",
   "metadata": {
    "language": "python",
    "name": "save_data_to_SF_tables",
    "collapsed": false,
    "resultHeight": 0
   },
   "outputs": [],
   "source": "# Save data to region_dim table\ndf_reg.to_snowflake(\n    name = 'cortex_analyst_demo.revenue_timeseries.region_dim',\n    if_exists='replace',\n    index=False\n)\n\n# Save data to product_dim table\ndf_prod.to_snowflake(\n    name = 'cortex_analyst_demo.revenue_timeseries.product_dim',\n    if_exists='replace',\n    index=False\n)\n\ndf_d_rev.to_snowflake(\n    name = 'cortex_analyst_demo.revenue_timeseries.daily_revenue',\n    if_exists='replace',\n    index=False\n)\n",
   "execution_count": null
  },
  {
   "cell_type": "code",
   "id": "3d8e6a98-03f2-4cd8-bb52-9ac240d69b43",
   "metadata": {
    "language": "sql",
    "name": "check_loaded_data",
    "collapsed": false,
    "resultHeight": 0
   },
   "outputs": [],
   "source": "select * from cortex_analyst_demo.revenue_timeseries.daily_revenue;",
   "execution_count": null
  },
  {
   "cell_type": "markdown",
   "id": "209b4dfd-af49-42c3-90eb-2021129f2de6",
   "metadata": {
    "name": "cell1",
    "collapsed": false,
    "resultHeight": 88
   },
   "source": "### Integrate Cortex Search\nWe will integrate Cortex Search as a way to improve literal string searches to help Cortex Analyst generate more accurate SQL queries."
  },
  {
   "cell_type": "code",
   "id": "ef7ce168-5499-4b43-8bf6-6c4b4a106b8d",
   "metadata": {
    "language": "sql",
    "name": "create_cortex_search"
   },
   "outputs": [],
   "source": "USE DATABASE cortex_analyst_demo;\nUSE SCHEMA revenue_timeseries;\nuse ROLE cortex_user_role;\n\n  CREATE OR REPLACE CORTEX SEARCH SERVICE product_line_search_service\n  ON product_dimension\n  WAREHOUSE = cortex_analyst_wh\n  TARGET_LAG = '1 hour'\n  AS (\n      SELECT DISTINCT product_line AS product_dimension FROM product_dim\n  );",
   "execution_count": null
  },
  {
   "cell_type": "markdown",
   "id": "f2fdbfbf-9742-4da7-aee9-db85abae5899",
   "metadata": {
    "name": "cell5",
    "collapsed": false,
    "resultHeight": 1489
   },
   "source": "### Semantic Model Details\nThe semantic model file **[revenue_timeseries.yaml](https://github.com/fahadaz/cortex_analyst_hol/blob/main/data/revenue_timeseries.yaml)** is the key that unlocks Cortex Analyst's power. This YAML file dictates the tables, columns, etc. that Analyst can use in order to run queries that answer natural-language questions Let's talk a little about the details of this file:\n\nThe Semantic Model is composed of a number of different fields that help Cortex Analyst understand the specifics of your data:\n\n- Logical Tables which are composed of Logical Columns\n- Logical Columns which are one of dimensions, time_dimensions, or measures\n- Relationships that exist between tables to allow for JOINS\n\nLogical Tables are relatively straightforward- these are tables or views within a database. That's it! Pretty simple\n\nLogical Columns get a bit more complicated; a logical column can reference an underlying physical column in a table, or it can be a expression containing one or more physical columns. So, for example, in the **[revenue_timeseries.yaml](https://github.com/fahadaz/cortex_analyst_hol/blob/main/data/revenue_timeseries.yaml)**, we have a simple logical column **daily_revenue** that is a physical column. In the **daily_revenue** measure definition, you'll notice that we provide a description, as well as synonyms, data_type, and a default_aggregation, but no **expr** parameter. This is because revenue is simply a physical column in the **daily_revenue** table:\n\n```\nmeasures:\n    - name: daily_revenue\n        expr: revenue\n        description: total revenue for the given day\n        synonyms: [\"sales\", \"income\"]\n        default_aggregation: sum\n        data_type: number\n```\nIn contrast, we define a different measure daily_profit which is not in fact a physical column, but rather an expression of the difference between the revenue and cogs physical columns:\n\n```\n- name: daily_profit\n    description: profit is the difference between revenue and expenses.\n    expr: revenue - cogs\n    data_type: number\n```\n\nIn the semantic model, time_dimensions specifically capture temporal features of the data, and dimensions are not quantitative fields (e.g. quantitative fields are measures, while categorical fields are dimensions).\n\nAn example time_dimension:\n```\ntime_dimensions:\n    - name: date\n    expr: date\n    description: date with measures of revenue, COGS, and forecasted revenue for each product line\n    unique: false\n    data_type: date\n```\nAn example relationship:\n\n```\nrelationships:\n  - name: revenue_to_product\n    left_table: daily_revenue\n    right_table: product\n    relationship_columns:\n      - left_column: product_id\n        right_column: product_id\n    join_type: left_outer\n    relationship_type: many_to_one\n```\n"
  }
 ]
}